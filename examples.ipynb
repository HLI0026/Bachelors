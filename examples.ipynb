{
 "cells": [
  {
   "cell_type": "code",
   "execution_count": 1,
   "metadata": {},
   "outputs": [],
   "source": [
    "import my_groover_oop as gr_oop"
   ]
  },
  {
   "attachments": {},
   "cell_type": "markdown",
   "metadata": {},
   "source": [
    "First of all, we are going to set up our file with clauses, we want to compute. Each pair represents XOR between respective boolean variables."
   ]
  },
  {
   "cell_type": "code",
   "execution_count": 2,
   "metadata": {},
   "outputs": [
    {
     "name": "stdout",
     "output_type": "stream",
     "text": [
      "Overwriting clauses_small.txt\n"
     ]
    }
   ],
   "source": [
    "%%writefile clauses_small.txt\n",
    "0,1\n",
    "0,2\n",
    "1,3\n",
    "2,3\n"
   ]
  },
  {
   "attachments": {},
   "cell_type": "markdown",
   "metadata": {},
   "source": [
    "We are going to insert respective path into a varialbe as well as path for out graph output and define number of realizations of our future algorithm in variable shots\n"
   ]
  },
  {
   "cell_type": "code",
   "execution_count": 3,
   "metadata": {},
   "outputs": [],
   "source": [
    "path = \"clauses_small.txt\"\n",
    "graph_file =\"graph_file_small\"\n",
    "shots = 1000"
   ]
  },
  {
   "attachments": {},
   "cell_type": "markdown",
   "metadata": {},
   "source": [
    "In the next step, we are going to parse the input and store information in variables inside our instance"
   ]
  },
  {
   "cell_type": "code",
   "execution_count": 4,
   "metadata": {},
   "outputs": [],
   "source": [
    "algorithm = gr_oop.GroversAlgorithm(path,shots)"
   ]
  },
  {
   "attachments": {},
   "cell_type": "markdown",
   "metadata": {},
   "source": [
    "Lets check, what we have inside"
   ]
  },
  {
   "cell_type": "code",
   "execution_count": 5,
   "metadata": {},
   "outputs": [
    {
     "name": "stdout",
     "output_type": "stream",
     "text": [
      "4\n",
      "4\n",
      "9\n"
     ]
    }
   ],
   "source": [
    "print(algorithm._diffuser_qubits_count)\n",
    "print(algorithm._clause_qubits_count)\n",
    "print(algorithm._all_qubits_count)"
   ]
  },
  {
   "attachments": {},
   "cell_type": "markdown",
   "metadata": {},
   "source": [
    "Lets check what is inside of clauses, it is list of lists, where inner lists contains our clauses from input"
   ]
  },
  {
   "cell_type": "code",
   "execution_count": 6,
   "metadata": {},
   "outputs": [
    {
     "data": {
      "text/plain": [
       "[[0, 1], [0, 2], [1, 3], [2, 3]]"
      ]
     },
     "execution_count": 6,
     "metadata": {},
     "output_type": "execute_result"
    }
   ],
   "source": [
    "algorithm._clauses"
   ]
  },
  {
   "attachments": {},
   "cell_type": "markdown",
   "metadata": {},
   "source": [
    "We see that current realization of algorithm to solve such problems require 9 quibts, 4 of it are qubits for measuring, 4 are support qubits for clause realization and last qubit is qubit for |->, that helps flip phases of qubits, which are going to be .\n",
    "\n",
    "In next step we are going to setup gates, that will use the information and will merge into final circuit, which will compute our results"
   ]
  },
  {
   "cell_type": "code",
   "execution_count": 7,
   "metadata": {},
   "outputs": [],
   "source": [
    "algorithm.circuit_setup()"
   ]
  },
  {
   "attachments": {},
   "cell_type": "markdown",
   "metadata": {},
   "source": [
    "Lets check what is inside our gates"
   ]
  },
  {
   "cell_type": "code",
   "execution_count": 8,
   "metadata": {},
   "outputs": [
    {
     "name": "stdout",
     "output_type": "stream",
     "text": [
      "     ┌───┐     \n",
      "q_0: ┤ H ├─────\n",
      "     ├───┤     \n",
      "q_1: ┤ H ├─────\n",
      "     ├───┤     \n",
      "q_2: ┤ H ├─────\n",
      "     ├───┤     \n",
      "q_3: ┤ H ├─────\n",
      "     └───┘     \n",
      "q_4: ──────────\n",
      "               \n",
      "q_5: ──────────\n",
      "               \n",
      "q_6: ──────────\n",
      "               \n",
      "q_7: ──────────\n",
      "     ┌───┐┌───┐\n",
      "q_8: ┤ X ├┤ H ├\n",
      "     └───┘└───┘\n"
     ]
    }
   ],
   "source": [
    "print(algorithm._init_gate_realization)"
   ]
  },
  {
   "cell_type": "code",
   "execution_count": 9,
   "metadata": {},
   "outputs": [
    {
     "name": "stdout",
     "output_type": "stream",
     "text": [
      "                                                                           »\n",
      "q_0: ──■─────────■──────────────────────────────────■─────────■────────────»\n",
      "       │         │                                  │         │            »\n",
      "q_1: ──┼────■────┼─────────■────────────────────────┼────■────┼─────────■──»\n",
      "       │    │    │         │                        │    │    │         │  »\n",
      "q_2: ──┼────┼────┼────■────┼─────────■──────────────┼────┼────┼────■────┼──»\n",
      "       │    │    │    │    │         │              │    │    │    │    │  »\n",
      "q_3: ──┼────┼────┼────┼────┼────■────┼────■─────────┼────┼────┼────┼────┼──»\n",
      "     ┌─┴─┐┌─┴─┐  │    │    │    │    │    │       ┌─┴─┐┌─┴─┐  │    │    │  »\n",
      "q_4: ┤ X ├┤ X ├──┼────┼────┼────┼────┼────┼────■──┤ X ├┤ X ├──┼────┼────┼──»\n",
      "     └───┘└───┘┌─┴─┐┌─┴─┐  │    │    │    │    │  └───┘└───┘┌─┴─┐┌─┴─┐  │  »\n",
      "q_5: ──────────┤ X ├┤ X ├──┼────┼────┼────┼────■────────────┤ X ├┤ X ├──┼──»\n",
      "               └───┘└───┘┌─┴─┐┌─┴─┐  │    │    │            └───┘└───┘┌─┴─┐»\n",
      "q_6: ────────────────────┤ X ├┤ X ├──┼────┼────■──────────────────────┤ X ├»\n",
      "                         └───┘└───┘┌─┴─┐┌─┴─┐  │                      └───┘»\n",
      "q_7: ──────────────────────────────┤ X ├┤ X ├──■───────────────────────────»\n",
      "                                   └───┘└───┘┌─┴─┐                         »\n",
      "q_8: ────────────────────────────────────────┤ X ├─────────────────────────»\n",
      "                                             └───┘                         »\n",
      "«                    \n",
      "«q_0: ───────────────\n",
      "«                    \n",
      "«q_1: ───────────────\n",
      "«                    \n",
      "«q_2: ───────■───────\n",
      "«            │       \n",
      "«q_3: ──■────┼────■──\n",
      "«       │    │    │  \n",
      "«q_4: ──┼────┼────┼──\n",
      "«       │    │    │  \n",
      "«q_5: ──┼────┼────┼──\n",
      "«     ┌─┴─┐  │    │  \n",
      "«q_6: ┤ X ├──┼────┼──\n",
      "«     └───┘┌─┴─┐┌─┴─┐\n",
      "«q_7: ─────┤ X ├┤ X ├\n",
      "«          └───┘└───┘\n",
      "«q_8: ───────────────\n",
      "«                    \n"
     ]
    }
   ],
   "source": [
    "print(algorithm._oracle_gate_realization)"
   ]
  },
  {
   "cell_type": "code",
   "execution_count": 10,
   "metadata": {},
   "outputs": [
    {
     "name": "stdout",
     "output_type": "stream",
     "text": [
      "     ┌───┐┌───┐     ┌───┐┌───┐\n",
      "q_0: ┤ H ├┤ X ├──■──┤ X ├┤ H ├\n",
      "     ├───┤├───┤  │  ├───┤├───┤\n",
      "q_1: ┤ H ├┤ X ├──■──┤ X ├┤ H ├\n",
      "     ├───┤├───┤  │  ├───┤├───┤\n",
      "q_2: ┤ H ├┤ X ├──■──┤ X ├┤ H ├\n",
      "     ├───┤└───┘┌─┴─┐├───┤└───┘\n",
      "q_3: ┤ Z ├─────┤ X ├┤ Z ├─────\n",
      "     └───┘     └───┘└───┘     \n"
     ]
    }
   ],
   "source": [
    "print(algorithm._diffuser_gate_realization)"
   ]
  },
  {
   "attachments": {},
   "cell_type": "markdown",
   "metadata": {},
   "source": [
    "Everything is correct for this input, now we just need to compute the actual results"
   ]
  },
  {
   "cell_type": "code",
   "execution_count": 11,
   "metadata": {},
   "outputs": [],
   "source": [
    "algorithm.grovers()"
   ]
  },
  {
   "cell_type": "code",
   "execution_count": 12,
   "metadata": {},
   "outputs": [
    {
     "data": {
      "text/plain": [
       "{'0100': 18,\n",
       " '0101': 15,\n",
       " '1001': 369,\n",
       " '1100': 11,\n",
       " '1000': 13,\n",
       " '0110': 411,\n",
       " '1101': 13,\n",
       " '0111': 22,\n",
       " '0011': 16,\n",
       " '1011': 18,\n",
       " '1111': 13,\n",
       " '0001': 22,\n",
       " '1110': 16,\n",
       " '1010': 13,\n",
       " '0010': 15,\n",
       " '0000': 15}"
      ]
     },
     "execution_count": 12,
     "metadata": {},
     "output_type": "execute_result"
    }
   ],
   "source": [
    "algorithm._counts"
   ]
  },
  {
   "attachments": {},
   "cell_type": "markdown",
   "metadata": {},
   "source": [
    "And lets store it as a plot :), there is important argument \"path\"\n"
   ]
  },
  {
   "cell_type": "code",
   "execution_count": 21,
   "metadata": {},
   "outputs": [],
   "source": [
    "algorithm.my_plot(graph_file)"
   ]
  },
  {
   "attachments": {},
   "cell_type": "markdown",
   "metadata": {},
   "source": [
    "We can also vizualize it, just dont use path argument"
   ]
  },
  {
   "cell_type": "code",
   "execution_count": 14,
   "metadata": {},
   "outputs": [
    {
     "data": {
      "image/png": "[encoded data removed]",
      "text/plain": [
       "<Figure size 700x500 with 1 Axes>"
      ]
     },
     "execution_count": 14,
     "metadata": {},
     "output_type": "execute_result"
    }
   ],
   "source": [
    "algorithm.my_plot()"
   ]
  },
  {
   "cell_type": "code",
   "execution_count": 15,
   "metadata": {},
   "outputs": [
    {
     "name": "stdout",
     "output_type": "stream",
     "text": [
      "Overwriting clauses_large.txt\n"
     ]
    }
   ],
   "source": [
    "%%writefile clauses_large.txt\n",
    "0,1\n",
    "0,3\n",
    "1,2\n",
    "2,3\n",
    "3,4"
   ]
  },
  {
   "attachments": {},
   "cell_type": "markdown",
   "metadata": {},
   "source": [
    "Now lets do everything quicker for tweaked input"
   ]
  },
  {
   "cell_type": "code",
   "execution_count": 16,
   "metadata": {},
   "outputs": [],
   "source": [
    "path  = \"clauses_large.txt\"\n",
    "graph_file = \"graph_file_large\"\n",
    "shotrs = 1000\n",
    "algorithm = gr_oop.GroversAlgorithm(path,shots)"
   ]
  },
  {
   "cell_type": "code",
   "execution_count": 17,
   "metadata": {},
   "outputs": [],
   "source": [
    "algorithm.circuit_setup()\n",
    "algorithm.grovers()"
   ]
  },
  {
   "cell_type": "code",
   "execution_count": 19,
   "metadata": {},
   "outputs": [
    {
     "data": {
      "text/plain": [
       "{'00101': 13,\n",
       " '10110': 15,\n",
       " '10001': 16,\n",
       " '10000': 14,\n",
       " '01001': 21,\n",
       " '11010': 21,\n",
       " '00010': 17,\n",
       " '10101': 261,\n",
       " '10100': 14,\n",
       " '10111': 17,\n",
       " '10010': 14,\n",
       " '11100': 17,\n",
       " '00110': 11,\n",
       " '00001': 12,\n",
       " '00011': 28,\n",
       " '00111': 14,\n",
       " '01101': 19,\n",
       " '00000': 15,\n",
       " '11001': 16,\n",
       " '01010': 227,\n",
       " '11000': 18,\n",
       " '11011': 11,\n",
       " '11111': 23,\n",
       " '01111': 16,\n",
       " '01000': 19,\n",
       " '01100': 22,\n",
       " '00100': 23,\n",
       " '11110': 15,\n",
       " '01011': 24,\n",
       " '11101': 13,\n",
       " '01110': 14,\n",
       " '10011': 20}"
      ]
     },
     "execution_count": 19,
     "metadata": {},
     "output_type": "execute_result"
    }
   ],
   "source": [
    "algorithm._counts"
   ]
  },
  {
   "cell_type": "code",
   "execution_count": 20,
   "metadata": {},
   "outputs": [],
   "source": [
    "algorithm.my_plot(graph_file)"
   ]
  },
  {
   "attachments": {},
   "cell_type": "markdown",
   "metadata": {},
   "source": [
    "Again we see that it works"
   ]
  },
  {
   "cell_type": "markdown",
   "metadata": {},
   "source": []
  },
  {
   "cell_type": "code",
   "execution_count": null,
   "metadata": {},
   "outputs": [],
   "source": []
  }
 ],
 "metadata": {
  "kernelspec": {
   "display_name": "Python 3 (ipykernel)",
   "language": "python",
   "name": "python3"
  },
  "language_info": {
   "codemirror_mode": {
    "name": "ipython",
    "version": 3
   },
   "file_extension": ".py",
   "mimetype": "text/x-python",
   "name": "python",
   "nbconvert_exporter": "python",
   "pygments_lexer": "ipython3",
   "version": "3.10.6"
  }
 },
 "nbformat": 4,
 "nbformat_minor": 2
}
