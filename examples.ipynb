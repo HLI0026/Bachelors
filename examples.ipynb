{
 "cells": [
  {
   "cell_type": "code",
   "execution_count": 1,
   "metadata": {},
   "outputs": [],
   "source": [
    "import my_grover as gr\n",
    "import my_groover_oop as gr_oop"
   ]
  },
  {
   "cell_type": "code",
   "execution_count": 2,
   "metadata": {},
   "outputs": [
    {
     "name": "stdout",
     "output_type": "stream",
     "text": [
      "Overwriting clauses_small.txt\n"
     ]
    }
   ],
   "source": [
    "%%writefile clauses_small.txt\n",
    "0,1\n",
    "0,2\n",
    "1,3\n",
    "2,3"
   ]
  },
  {
   "cell_type": "code",
   "execution_count": 3,
   "metadata": {},
   "outputs": [],
   "source": [
    "path = \"clauses_small.txt\"\n",
    "graph_file =\"graph_file_small\"\n",
    "counts = gr.Grovers(path,10000)\n",
    "gr.my_plot(counts,graph_file)"
   ]
  },
  {
   "cell_type": "code",
   "execution_count": 4,
   "metadata": {},
   "outputs": [
    {
     "name": "stdout",
     "output_type": "stream",
     "text": [
      "Overwriting clauses_large.txt\n"
     ]
    }
   ],
   "source": [
    "%%writefile clauses_large.txt\n",
    "0,1\n",
    "0,2\n",
    "1,3\n",
    "2,3\n"
   ]
  },
  {
   "cell_type": "code",
   "execution_count": 5,
   "metadata": {},
   "outputs": [
    {
     "name": "stdout",
     "output_type": "stream",
     "text": [
      "{'1111': 36, '1100': 39, '0000': 32, '1000': 32, '0110': 4777, '1101': 31, '0111': 31, '0011': 40, '1011': 51, '1110': 45, '1001': 4710, '0101': 34, '1010': 27, '0100': 49, '0001': 32, '0010': 34}\n"
     ]
    }
   ],
   "source": [
    "path = \"clauses_large.txt\"\n",
    "graph_file =\"graph_file_large\"\n",
    "counts = gr.Grovers(path,10000)\n",
    "gr.my_plot(counts,graph_file)\n",
    "print(counts)\n"
   ]
  },
  {
   "cell_type": "code",
   "execution_count": 6,
   "metadata": {},
   "outputs": [],
   "source": [
    "my_algorithm =gr_oop.grovers_alg(\"clauses_large.txt\",10000)"
   ]
  },
  {
   "cell_type": "code",
   "execution_count": 7,
   "metadata": {},
   "outputs": [
    {
     "data": {
      "text/plain": [
       "{'1110': 162,\n",
       " '0010': 157,\n",
       " '0101': 146,\n",
       " '1001': 3913,\n",
       " '1100': 158,\n",
       " '1000': 147,\n",
       " '0110': 3851,\n",
       " '1101': 183,\n",
       " '0001': 156,\n",
       " '1111': 160,\n",
       " '1010': 165,\n",
       " '0111': 178,\n",
       " '0011': 157,\n",
       " '1011': 152,\n",
       " '0100': 152,\n",
       " '0000': 163}"
      ]
     },
     "execution_count": 7,
     "metadata": {},
     "output_type": "execute_result"
    }
   ],
   "source": [
    "my_algorithm._counts"
   ]
  },
  {
   "cell_type": "code",
   "execution_count": null,
   "metadata": {},
   "outputs": [],
   "source": []
  }
 ],
 "metadata": {
  "kernelspec": {
   "display_name": "Python 3 (ipykernel)",
   "language": "python",
   "name": "python3"
  },
  "language_info": {
   "codemirror_mode": {
    "name": "ipython",
    "version": 3
   },
   "file_extension": ".py",
   "mimetype": "text/x-python",
   "name": "python",
   "nbconvert_exporter": "python",
   "pygments_lexer": "ipython3",
   "version": "3.10.6"
  }
 },
 "nbformat": 4,
 "nbformat_minor": 2
}
