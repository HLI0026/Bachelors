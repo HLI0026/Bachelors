{
 "cells": [
  {
   "cell_type": "code",
   "execution_count": 1,
   "metadata": {
    "ExecuteTime": {
     "end_time": "2023-04-27T10:29:12.346643Z",
     "start_time": "2023-04-27T10:29:11.934941Z"
    }
   },
   "outputs": [],
   "source": [
    "import my_groover_oop as gr_oop"
   ]
  },
  {
   "attachments": {},
   "cell_type": "markdown",
   "metadata": {},
   "source": [
    "We are going to insert respective path into a varialbe as well as path for out graph output and define number of realizations of our future algorithm in variable shots\n"
   ]
  },
  {
   "cell_type": "code",
   "execution_count": 3,
   "metadata": {
    "ExecuteTime": {
     "end_time": "2023-04-27T10:29:23.744433Z",
     "start_time": "2023-04-27T10:29:23.714985Z"
    }
   },
   "outputs": [],
   "source": [
    "path = \"clauses_small.txt\"\n",
    "graph_file =\"graph_file_small\"\n",
    "shots = 1000"
   ]
  },
  {
   "attachments": {},
   "cell_type": "markdown",
   "metadata": {},
   "source": [
    "In the next step, we are going to parse the input and store information in variables inside our instance"
   ]
  },
  {
   "cell_type": "code",
   "execution_count": 4,
   "metadata": {
    "ExecuteTime": {
     "end_time": "2023-04-27T10:29:24.392266Z",
     "start_time": "2023-04-27T10:29:24.366000Z"
    }
   },
   "outputs": [],
   "source": [
    "algorithm = gr_oop.GroversAlgorithm(path,shots)"
   ]
  },
  {
   "attachments": {},
   "cell_type": "markdown",
   "metadata": {},
   "source": [
    "Lets check, what we have inside"
   ]
  },
  {
   "cell_type": "code",
   "execution_count": 5,
   "metadata": {
    "ExecuteTime": {
     "end_time": "2023-04-27T10:29:24.729029Z",
     "start_time": "2023-04-27T10:29:24.675219Z"
    }
   },
   "outputs": [
    {
     "name": "stdout",
     "output_type": "stream",
     "text": [
      "4\n",
      "4\n",
      "9\n"
     ]
    }
   ],
   "source": [
    "print(algorithm._diffuser_qubits_count)\n",
    "print(algorithm._clause_qubits_count)\n",
    "print(algorithm._all_qubits_count)"
   ]
  },
  {
   "attachments": {},
   "cell_type": "markdown",
   "metadata": {},
   "source": [
    "Lets check what is inside of clauses, it is list of lists, where inner lists contains our clauses from input"
   ]
  },
  {
   "cell_type": "code",
   "execution_count": 6,
   "metadata": {
    "ExecuteTime": {
     "end_time": "2023-04-27T10:29:25.068273Z",
     "start_time": "2023-04-27T10:29:24.991857Z"
    }
   },
   "outputs": [
    {
     "data": {
      "text/plain": [
       "[[0, 1], [0, 2], [1, 3], [2, 3]]"
      ]
     },
     "execution_count": 6,
     "metadata": {},
     "output_type": "execute_result"
    }
   ],
   "source": [
    "algorithm._clauses"
   ]
  },
  {
   "attachments": {},
   "cell_type": "markdown",
   "metadata": {},
   "source": [
    "We see that current realization of algorithm to solve such problems require 9 quibts, 4 of it are qubits for measuring, 4 are support qubits for clause realization and last qubit is qubit for |->, that helps flip phases of qubits, which are going to be .\n",
    "\n",
    "In next step we are going to setup gates, that will use the information and will merge into final circuit, which will compute our results"
   ]
  },
  {
   "cell_type": "code",
   "execution_count": 7,
   "metadata": {
    "ExecuteTime": {
     "end_time": "2023-04-27T10:29:25.366680Z",
     "start_time": "2023-04-27T10:29:25.318545Z"
    }
   },
   "outputs": [],
   "source": [
    "algorithm.circuit_setup()"
   ]
  },
  {
   "attachments": {},
   "cell_type": "markdown",
   "metadata": {},
   "source": [
    "Lets check what is inside our gates"
   ]
  },
  {
   "cell_type": "code",
   "execution_count": 8,
   "metadata": {
    "ExecuteTime": {
     "end_time": "2023-04-27T10:29:26.172423Z",
     "start_time": "2023-04-27T10:29:26.141184Z"
    }
   },
   "outputs": [
    {
     "name": "stdout",
     "output_type": "stream",
     "text": [
      "     ┌───┐     \n",
      "q_0: ┤ H ├─────\n",
      "     ├───┤     \n",
      "q_1: ┤ H ├─────\n",
      "     ├───┤     \n",
      "q_2: ┤ H ├─────\n",
      "     ├───┤     \n",
      "q_3: ┤ H ├─────\n",
      "     └───┘     \n",
      "q_4: ──────────\n",
      "               \n",
      "q_5: ──────────\n",
      "               \n",
      "q_6: ──────────\n",
      "               \n",
      "q_7: ──────────\n",
      "     ┌───┐┌───┐\n",
      "q_8: ┤ X ├┤ H ├\n",
      "     └───┘└───┘\n"
     ]
    }
   ],
   "source": [
    "print(algorithm._init_gate_realization)"
   ]
  },
  {
   "cell_type": "code",
   "execution_count": 9,
   "metadata": {
    "ExecuteTime": {
     "end_time": "2023-04-27T10:29:26.597515Z",
     "start_time": "2023-04-27T10:29:26.581274Z"
    }
   },
   "outputs": [
    {
     "name": "stdout",
     "output_type": "stream",
     "text": [
      "                                                                           »\n",
      "q_0: ──■─────────■──────────────────────────────────■─────────■────────────»\n",
      "       │         │                                  │         │            »\n",
      "q_1: ──┼────■────┼─────────■────────────────────────┼────■────┼─────────■──»\n",
      "       │    │    │         │                        │    │    │         │  »\n",
      "q_2: ──┼────┼────┼────■────┼─────────■──────────────┼────┼────┼────■────┼──»\n",
      "       │    │    │    │    │         │              │    │    │    │    │  »\n",
      "q_3: ──┼────┼────┼────┼────┼────■────┼────■─────────┼────┼────┼────┼────┼──»\n",
      "     ┌─┴─┐┌─┴─┐  │    │    │    │    │    │       ┌─┴─┐┌─┴─┐  │    │    │  »\n",
      "q_4: ┤ X ├┤ X ├──┼────┼────┼────┼────┼────┼────■──┤ X ├┤ X ├──┼────┼────┼──»\n",
      "     └───┘└───┘┌─┴─┐┌─┴─┐  │    │    │    │    │  └───┘└───┘┌─┴─┐┌─┴─┐  │  »\n",
      "q_5: ──────────┤ X ├┤ X ├──┼────┼────┼────┼────■────────────┤ X ├┤ X ├──┼──»\n",
      "               └───┘└───┘┌─┴─┐┌─┴─┐  │    │    │            └───┘└───┘┌─┴─┐»\n",
      "q_6: ────────────────────┤ X ├┤ X ├──┼────┼────■──────────────────────┤ X ├»\n",
      "                         └───┘└───┘┌─┴─┐┌─┴─┐  │                      └───┘»\n",
      "q_7: ──────────────────────────────┤ X ├┤ X ├──■───────────────────────────»\n",
      "                                   └───┘└───┘┌─┴─┐                         »\n",
      "q_8: ────────────────────────────────────────┤ X ├─────────────────────────»\n",
      "                                             └───┘                         »\n",
      "«                    \n",
      "«q_0: ───────────────\n",
      "«                    \n",
      "«q_1: ───────────────\n",
      "«                    \n",
      "«q_2: ───────■───────\n",
      "«            │       \n",
      "«q_3: ──■────┼────■──\n",
      "«       │    │    │  \n",
      "«q_4: ──┼────┼────┼──\n",
      "«       │    │    │  \n",
      "«q_5: ──┼────┼────┼──\n",
      "«     ┌─┴─┐  │    │  \n",
      "«q_6: ┤ X ├──┼────┼──\n",
      "«     └───┘┌─┴─┐┌─┴─┐\n",
      "«q_7: ─────┤ X ├┤ X ├\n",
      "«          └───┘└───┘\n",
      "«q_8: ───────────────\n",
      "«                    \n"
     ]
    }
   ],
   "source": [
    "print(algorithm._oracle_gate_realization)"
   ]
  },
  {
   "cell_type": "code",
   "execution_count": 10,
   "metadata": {
    "ExecuteTime": {
     "end_time": "2023-04-27T10:29:27.174775Z",
     "start_time": "2023-04-27T10:29:27.100886Z"
    }
   },
   "outputs": [
    {
     "name": "stdout",
     "output_type": "stream",
     "text": [
      "     ┌───┐┌───┐     ┌───┐┌───┐\n",
      "q_0: ┤ H ├┤ X ├──■──┤ X ├┤ H ├\n",
      "     ├───┤├───┤  │  ├───┤├───┤\n",
      "q_1: ┤ H ├┤ X ├──■──┤ X ├┤ H ├\n",
      "     ├───┤├───┤  │  ├───┤├───┤\n",
      "q_2: ┤ H ├┤ X ├──■──┤ X ├┤ H ├\n",
      "     ├───┤└───┘┌─┴─┐├───┤└───┘\n",
      "q_3: ┤ Z ├─────┤ X ├┤ Z ├─────\n",
      "     └───┘     └───┘└───┘     \n"
     ]
    }
   ],
   "source": [
    "print(algorithm._diffuser_gate_realization)"
   ]
  },
  {
   "attachments": {},
   "cell_type": "markdown",
   "metadata": {},
   "source": [
    "Everything is correct for this input, now we just need to compute the actual results"
   ]
  },
  {
   "cell_type": "code",
   "execution_count": 11,
   "metadata": {
    "ExecuteTime": {
     "end_time": "2023-04-27T10:29:28.257969Z",
     "start_time": "2023-04-27T10:29:27.932472Z"
    }
   },
   "outputs": [],
   "source": [
    "algorithm.grovers()"
   ]
  },
  {
   "cell_type": "code",
   "execution_count": 12,
   "metadata": {
    "ExecuteTime": {
     "end_time": "2023-04-27T10:29:28.360351Z",
     "start_time": "2023-04-27T10:29:28.306784Z"
    }
   },
   "outputs": [
    {
     "data": {
      "text/plain": [
       "{'0010': 9,\n",
       " '0001': 22,\n",
       " '1111': 15,\n",
       " '1101': 12,\n",
       " '1100': 13,\n",
       " '0110': 381,\n",
       " '1000': 15,\n",
       " '1001': 397,\n",
       " '0101': 19,\n",
       " '1110': 18,\n",
       " '1011': 21,\n",
       " '0111': 21,\n",
       " '0011': 11,\n",
       " '0100': 17,\n",
       " '0000': 9,\n",
       " '1010': 20}"
      ]
     },
     "execution_count": 12,
     "metadata": {},
     "output_type": "execute_result"
    }
   ],
   "source": [
    "algorithm._counts"
   ]
  },
  {
   "attachments": {},
   "cell_type": "markdown",
   "metadata": {},
   "source": [
    "And lets store it as a plot :), there is important argument \"path\"\n"
   ]
  },
  {
   "cell_type": "code",
   "execution_count": 13,
   "metadata": {
    "ExecuteTime": {
     "end_time": "2023-04-27T10:29:29.693276Z",
     "start_time": "2023-04-27T10:29:29.178155Z"
    }
   },
   "outputs": [],
   "source": [
    "algorithm.my_plot(graph_file)"
   ]
  },
  {
   "attachments": {},
   "cell_type": "markdown",
   "metadata": {},
   "source": [
    "We can also vizualize it, just dont use path argument"
   ]
  },
  {
   "cell_type": "code",
   "execution_count": 14,
   "metadata": {
    "ExecuteTime": {
     "end_time": "2023-04-27T10:29:30.150188Z",
     "start_time": "2023-04-27T10:29:29.874201Z"
    }
   },
   "outputs": [
    {
     "data": {
      "image/png": "[encoded data removed]",
      "text/plain": [
       "<Figure size 700x500 with 1 Axes>"
      ]
     },
     "execution_count": 14,
     "metadata": {},
     "output_type": "execute_result"
    }
   ],
   "source": [
    "algorithm.my_plot()"
   ]
  },
  {
   "attachments": {},
   "cell_type": "markdown",
   "metadata": {},
   "source": [
    "Now lets do everything quicker for tweaked input"
   ]
  },
  {
   "cell_type": "code",
   "execution_count": 16,
   "metadata": {
    "ExecuteTime": {
     "end_time": "2023-04-27T10:29:31.090028Z",
     "start_time": "2023-04-27T10:29:31.082803Z"
    }
   },
   "outputs": [],
   "source": [
    "path  = \"clauses_large.txt\"\n",
    "graph_file = \"graph_file_large\"\n",
    "shotrs = 1000\n",
    "algorithm = gr_oop.GroversAlgorithm(path,shots)"
   ]
  },
  {
   "cell_type": "code",
   "execution_count": 17,
   "metadata": {
    "ExecuteTime": {
     "end_time": "2023-04-27T10:29:31.368972Z",
     "start_time": "2023-04-27T10:29:31.324601Z"
    }
   },
   "outputs": [],
   "source": [
    "algorithm.circuit_setup()\n",
    "algorithm.grovers()"
   ]
  },
  {
   "cell_type": "code",
   "execution_count": 18,
   "metadata": {
    "ExecuteTime": {
     "end_time": "2023-04-27T10:29:31.557961Z",
     "start_time": "2023-04-27T10:29:31.501821Z"
    }
   },
   "outputs": [
    {
     "data": {
      "text/plain": [
       "{'11100': 13,\n",
       " '10011': 15,\n",
       " '11000': 26,\n",
       " '01001': 14,\n",
       " '10001': 23,\n",
       " '11010': 18,\n",
       " '00101': 13,\n",
       " '01000': 7,\n",
       " '01100': 24,\n",
       " '10101': 229,\n",
       " '10010': 17,\n",
       " '10100': 17,\n",
       " '10111': 16,\n",
       " '01011': 12,\n",
       " '01110': 23,\n",
       " '00010': 20,\n",
       " '00000': 14,\n",
       " '11001': 12,\n",
       " '01010': 261,\n",
       " '10000': 17,\n",
       " '11111': 25,\n",
       " '11011': 10,\n",
       " '01111': 12,\n",
       " '11101': 16,\n",
       " '00011': 19,\n",
       " '00111': 17,\n",
       " '01101': 21,\n",
       " '10110': 20,\n",
       " '00001': 16,\n",
       " '00110': 23,\n",
       " '00100': 17,\n",
       " '11110': 13}"
      ]
     },
     "execution_count": 18,
     "metadata": {},
     "output_type": "execute_result"
    }
   ],
   "source": [
    "algorithm._counts"
   ]
  },
  {
   "cell_type": "code",
   "execution_count": 19,
   "metadata": {
    "ExecuteTime": {
     "end_time": "2023-04-27T10:29:31.939154Z",
     "start_time": "2023-04-27T10:29:31.724329Z"
    }
   },
   "outputs": [],
   "source": [
    "algorithm.my_plot(graph_file)"
   ]
  },
  {
   "cell_type": "code",
   "execution_count": null,
   "metadata": {
    "collapsed": false
   },
   "outputs": [],
   "source": []
  },
  {
   "attachments": {},
   "cell_type": "markdown",
   "metadata": {},
   "source": [
    "Again we see that it works"
   ]
  },
  {
   "cell_type": "code",
   "execution_count": 25,
   "metadata": {
    "ExecuteTime": {
     "end_time": "2023-04-27T10:35:59.528004Z",
     "start_time": "2023-04-27T10:35:59.130183Z"
    },
    "collapsed": false
   },
   "outputs": [
    {
     "data": {
      "image/png": "[encoded data removed]",
      "text/plain": [
       "<Figure size 700x500 with 1 Axes>"
      ]
     },
     "execution_count": 25,
     "metadata": {},
     "output_type": "execute_result"
    }
   ],
   "source": [
    "algorithm.my_plot()"
   ]
  },
  {
   "cell_type": "code",
   "execution_count": 24,
   "metadata": {
    "ExecuteTime": {
     "end_time": "2023-04-27T10:35:54.332176Z",
     "start_time": "2023-04-27T10:35:54.270641Z"
    },
    "collapsed": false
   },
   "outputs": [],
   "source": []
  },
  {
   "cell_type": "code",
   "execution_count": null,
   "metadata": {
    "collapsed": false
   },
   "outputs": [],
   "source": []
  }
 ],
 "metadata": {
  "kernelspec": {
   "display_name": "Python 3 (ipykernel)",
   "language": "python",
   "name": "python3"
  },
  "language_info": {
   "codemirror_mode": {
    "name": "ipython",
    "version": 3
   },
   "file_extension": ".py",
   "mimetype": "text/x-python",
   "name": "python",
   "nbconvert_exporter": "python",
   "pygments_lexer": "ipython3",
   "version": "3.10.6"
  }
 },
 "nbformat": 4,
 "nbformat_minor": 2
}
