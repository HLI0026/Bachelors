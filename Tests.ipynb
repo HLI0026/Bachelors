{
 "cells": [
  {
   "cell_type": "code",
   "execution_count": 4,
   "metadata": {},
   "outputs": [
    {
     "data": {
      "text/plain": [
       "[[0, 1], [0, 2], [1, 3], [2, 3]]"
      ]
     },
     "execution_count": 4,
     "metadata": {},
     "output_type": "execute_result"
    }
   ],
   "source": [
    "import matplotlib.pyplot as plt\n",
    "import numpy as np\n",
    "from qiskit import Aer, assemble, transpile\n",
    "from qiskit import QuantumCircuit\n",
    "from qiskit.visualization import plot_histogram \n",
    "\n",
    "path = \"clauses_small.txt\"\n",
    "def file_read(path):\n",
    "    \"\"\"\n",
    "    Reading file, transfering from string to list of lists, which contain single clauses\n",
    "    \"\"\"\n",
    "    clauses = \"\"\n",
    "\n",
    "    my_file = open(path, \"rt\")\n",
    "    \n",
    "    #reading file\n",
    "    \n",
    "    for line in my_file:\n",
    "        \n",
    "        clauses += line\n",
    "    \n",
    "    clauses = clauses.rsplit()\n",
    "\n",
    "    #From string to list\n",
    "    \n",
    "    for idx, clause in enumerate(clauses):\n",
    "        \n",
    "        clauses[idx] = clause.split(\",\")\n",
    "        \n",
    "        clauses[idx][0] = int(clauses[idx][0])\n",
    "        clauses[idx][1] = int(clauses[idx][1])\n",
    "\n",
    "    my_file.close()\n",
    "\n",
    "    return clauses\n",
    "\n",
    "\n",
    "file_read(path)"
   ]
  },
  {
   "cell_type": "code",
   "execution_count": 5,
   "metadata": {},
   "outputs": [],
   "source": [
    "def Qubits_count(clauses:list):\n",
    "    \"\"\"\n",
    "    Returns amount of qubits required for oracle and diffuser\n",
    "    amount[0] contains diffuser quibts, amount[1] contains additional qubits for clause realisation, amount[2] number of all qubits needed\n",
    "    \"\"\"\n",
    "    amount = [0, 0, 0]\n",
    "    \n",
    "    for cl1, cl2 in clauses:\n",
    "        \n",
    "        if amount[0]<cl1:\n",
    "            \n",
    "            amount[0] = cl1\n",
    "        \n",
    "        if amount[0]<cl2:\n",
    "        \n",
    "            amount[0] = cl2\n",
    "    \n",
    "    #due to 0 indexing of python we need to add 1 to diffuser qubits\n",
    "\n",
    "    amount[0] +=1\n",
    "\n",
    "    amount[1] = len(clauses)\n",
    "\n",
    "    amount[2] = qubits_init = amount[1]+amount[0]+1\n",
    "\n",
    "    return amount\n",
    "\n",
    "\n"
   ]
  },
  {
   "cell_type": "code",
   "execution_count": 6,
   "metadata": {},
   "outputs": [],
   "source": [
    "def Init(amount:list):\n",
    "    \"\"\"\n",
    "    Returns gate, which sets correct qubits into superposition and last qubits into |-> state\n",
    "    \"\"\"\n",
    "\n",
    "    qc = QuantumCircuit(amount[2])\n",
    "\n",
    "    print(amount[2])\n",
    "    \n",
    "    for qubit in range(amount[0]):\n",
    "        \n",
    "        qc.h(qubit)\n",
    "   \n",
    "    qc.x(amount[2]-1)\n",
    "\n",
    "    init_gate = qc.to_gate()\n",
    "\n",
    "    init_gate.name = \"init\"\n",
    "    \n",
    "    return init_gate\n",
    "        "
   ]
  },
  {
   "cell_type": "code",
   "execution_count": 7,
   "metadata": {},
   "outputs": [],
   "source": [
    "def Oracle(clauses:list, amount:list):\n",
    "    \n",
    "    \"\"\"\n",
    "    #Makes oracle of grovers algorithm from clauses and respective amount of neccesary qubits\n",
    "    \"\"\"\n",
    "\n",
    "\n",
    "    qc = QuantumCircuit(amount[2])\n",
    "\n",
    "    for idx, clause in enumerate(clauses):\n",
    "\n",
    "        qc.cx(clause[0], idx + amount[1])\n",
    "\n",
    "        qc.cx(clause[1], idx + amount[1])\n",
    "    \n",
    "    qc.mct(list(range(amount[0],amount[2]-1)), amount[2]-1)\n",
    "    \n",
    "    for idx, clause in enumerate(clauses):\n",
    "\n",
    "        qc.cx(clause[0], idx + amount[1])\n",
    "\n",
    "        qc.cx(clause[1], idx + amount[1])\n",
    "\n",
    "    oracle_gate = qc.to_gate()\n",
    "\n",
    "    oracle_gate.name = \"oracle\"\n",
    "    \n",
    "    return oracle_gate\n",
    "    "
   ]
  },
  {
   "cell_type": "code",
   "execution_count": 8,
   "metadata": {},
   "outputs": [],
   "source": [
    "def Diffuser(amount:list):\n",
    "\n",
    "    qc = QuantumCircuit(amount[0])\n",
    "\n",
    "    for i in range(amount[0]-1):\n",
    "\n",
    "        qc.h(i)\n",
    "        qc.x(i)\n",
    "\n",
    "    #qc.barrier(list(range(amount[0])))\n",
    "\n",
    "    qc.z(amount[0]-1)\n",
    "    qc.mct(list(range(amount[0]-1)), amount[0]-1)\n",
    "    qc.z(amount[0]-1)\n",
    "\n",
    "    #qc.barrier(list(range(amount[0])))\n",
    "\n",
    "    for i in range(amount[0]-1):\n",
    "\n",
    "        qc.x(i)\n",
    "        qc.h(i)\n",
    "\n",
    "    diffuser_gate = qc.to_gate()\n",
    "\n",
    "    diffuser_gate.name = \"diffuser\"\n",
    "\n",
    "    return diffuser_gate\n",
    "\n"
   ]
  },
  {
   "cell_type": "code",
   "execution_count": null,
   "metadata": {},
   "outputs": [],
   "source": []
  },
  {
   "cell_type": "code",
   "execution_count": null,
   "metadata": {},
   "outputs": [],
   "source": []
  },
  {
   "cell_type": "code",
   "execution_count": 15,
   "metadata": {},
   "outputs": [],
   "source": [
    "def Grovers(path: str ):\n",
    "    \n",
    "    \"\"\"\n",
    "    Algorithm it self, using previous functions to properly set up and run\n",
    "    \"\"\"\n",
    "    \n",
    "    clauses = file_read(path)\n",
    "    \n",
    "    amount = Qubits_count(clauses)\n",
    "    \n",
    "    init_gate = Init(amount)\n",
    "\n",
    "    oracle_gate = Oracle(clauses, amount)\n",
    "\n",
    "    diffuser_gate = Diffuser(amount)\n",
    "\n",
    "    iterations = int( np.arcsin(1 / np.sqrt( amount[0] ) ) )\n",
    "    \n",
    "    #sometimes number of iterations can be near 0, in this case we increase it to 1 to make algorithm work\n",
    "\n",
    "    if iterations == 0: iterations = 1\n",
    "    \n",
    "    \n",
    "    \n",
    "    init_qubits = list(range(amount[2]))\n",
    "    \n",
    "    oracle_qubits = list(range(amount[2]))\n",
    "    \n",
    "    diffuser_qubits = list(range(amount[0]))\n",
    "    print(clauses)\n",
    "    print(amount)\n",
    "    \n",
    "    qc = QuantumCircuit(amount[2],amount[0])\n",
    "\n",
    "    qc.append(init_gate,init_qubits)\n",
    "\n",
    "    for i in range(2):\n",
    "            \n",
    "        qc.append(oracle_gate,oracle_qubits)\n",
    "        \n",
    "        qc.append(diffuser_gate, diffuser_qubits)\n",
    "    \n",
    "    print(qc)\n",
    "    qc.measure(diffuser_qubits,diffuser_qubits)\n",
    "    aer_sim = Aer.get_backend('aer_simulator')\n",
    "    transpiled_grover_circuit = transpile(qc, aer_sim)\n",
    "    qobj = assemble(transpiled_grover_circuit)\n",
    "    results = aer_sim.run(qobj).result()\n",
    "    counts = results.get_counts()\n",
    "    plot_histogram(counts)\n",
    "    return counts"
   ]
  },
  {
   "cell_type": "code",
   "execution_count": 16,
   "metadata": {},
   "outputs": [
    {
     "name": "stdout",
     "output_type": "stream",
     "text": [
      "9\n",
      "     ┌───┐\n",
      "q_0: ┤ H ├\n",
      "     ├───┤\n",
      "q_1: ┤ H ├\n",
      "     ├───┤\n",
      "q_2: ┤ H ├\n",
      "     ├───┤\n",
      "q_3: ┤ H ├\n",
      "     └───┘\n",
      "q_4: ─────\n",
      "          \n",
      "q_5: ─────\n",
      "          \n",
      "q_6: ─────\n",
      "          \n",
      "q_7: ─────\n",
      "     ┌───┐\n",
      "q_8: ┤ X ├\n",
      "     └───┘\n",
      "[[0, 1], [0, 2], [1, 3], [2, 3]]\n",
      "[4, 4, 9]\n",
      "     ┌───────┐┌─────────┐┌───────────┐┌─────────┐┌───────────┐\n",
      "q_0: ┤0      ├┤0        ├┤0          ├┤0        ├┤0          ├\n",
      "     │       ││         ││           ││         ││           │\n",
      "q_1: ┤1      ├┤1        ├┤1          ├┤1        ├┤1          ├\n",
      "     │       ││         ││  diffuser ││         ││  diffuser │\n",
      "q_2: ┤2      ├┤2        ├┤2          ├┤2        ├┤2          ├\n",
      "     │       ││         ││           ││         ││           │\n",
      "q_3: ┤3      ├┤3        ├┤3          ├┤3        ├┤3          ├\n",
      "     │       ││         │└───────────┘│         │└───────────┘\n",
      "q_4: ┤4 init ├┤4 oracle ├─────────────┤4 oracle ├─────────────\n",
      "     │       ││         │             │         │             \n",
      "q_5: ┤5      ├┤5        ├─────────────┤5        ├─────────────\n",
      "     │       ││         │             │         │             \n",
      "q_6: ┤6      ├┤6        ├─────────────┤6        ├─────────────\n",
      "     │       ││         │             │         │             \n",
      "q_7: ┤7      ├┤7        ├─────────────┤7        ├─────────────\n",
      "     │       ││         │             │         │             \n",
      "q_8: ┤8      ├┤8        ├─────────────┤8        ├─────────────\n",
      "     └───────┘└─────────┘             └─────────┘             \n",
      "c: 4/═════════════════════════════════════════════════════════\n",
      "                                                              \n"
     ]
    }
   ],
   "source": [
    "counts = Grovers(path)"
   ]
  },
  {
   "cell_type": "code",
   "execution_count": 17,
   "metadata": {},
   "outputs": [
    {
     "data": {
      "image/png": "[encoded data removed]",
      "text/plain": [
       "<Figure size 700x500 with 1 Axes>"
      ]
     },
     "execution_count": 17,
     "metadata": {},
     "output_type": "execute_result"
    }
   ],
   "source": [
    "plot_histogram(counts)"
   ]
  },
  {
   "cell_type": "code",
   "execution_count": null,
   "metadata": {},
   "outputs": [],
   "source": []
  },
  {
   "cell_type": "code",
   "execution_count": null,
   "metadata": {},
   "outputs": [],
   "source": [
    "\n"
   ]
  },
  {
   "cell_type": "code",
   "execution_count": null,
   "metadata": {},
   "outputs": [],
   "source": []
  }
 ],
 "metadata": {
  "kernelspec": {
   "display_name": "Python 3",
   "language": "python",
   "name": "python3"
  },
  "language_info": {
   "codemirror_mode": {
    "name": "ipython",
    "version": 3
   },
   "file_extension": ".py",
   "mimetype": "text/x-python",
   "name": "python",
   "nbconvert_exporter": "python",
   "pygments_lexer": "ipython3",
   "version": "3.10.6"
  },
  "orig_nbformat": 4
 },
 "nbformat": 4,
 "nbformat_minor": 2
}
